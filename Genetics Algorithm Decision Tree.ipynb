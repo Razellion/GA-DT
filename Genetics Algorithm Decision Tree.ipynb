{
 "cells": [
  {
   "cell_type": "markdown",
   "metadata": {},
   "source": [
    "## Import"
   ]
  },
  {
   "cell_type": "code",
   "execution_count": 117,
   "metadata": {},
   "outputs": [],
   "source": [
    "import numpy as np\n",
    "import pandas as pd"
   ]
  },
  {
   "cell_type": "markdown",
   "metadata": {},
   "source": [
    "## CSV Read"
   ]
  },
  {
   "cell_type": "code",
   "execution_count": 118,
   "metadata": {
    "scrolled": true
   },
   "outputs": [
    {
     "data": {
      "text/html": [
       "<div>\n",
       "<style scoped>\n",
       "    .dataframe tbody tr th:only-of-type {\n",
       "        vertical-align: middle;\n",
       "    }\n",
       "\n",
       "    .dataframe tbody tr th {\n",
       "        vertical-align: top;\n",
       "    }\n",
       "\n",
       "    .dataframe thead th {\n",
       "        text-align: right;\n",
       "    }\n",
       "</style>\n",
       "<table border=\"1\" class=\"dataframe\">\n",
       "  <thead>\n",
       "    <tr style=\"text-align: right;\">\n",
       "      <th></th>\n",
       "      <th>Suhu</th>\n",
       "      <th>Waktu</th>\n",
       "      <th>Kondisi Langit</th>\n",
       "      <th>Kelembapan</th>\n",
       "      <th>Terbang/Tidak</th>\n",
       "    </tr>\n",
       "  </thead>\n",
       "  <tbody>\n",
       "    <tr>\n",
       "      <td>72</td>\n",
       "      <td>2</td>\n",
       "      <td>3</td>\n",
       "      <td>2</td>\n",
       "      <td>1</td>\n",
       "      <td>0</td>\n",
       "    </tr>\n",
       "    <tr>\n",
       "      <td>15</td>\n",
       "      <td>1</td>\n",
       "      <td>1</td>\n",
       "      <td>3</td>\n",
       "      <td>1</td>\n",
       "      <td>0</td>\n",
       "    </tr>\n",
       "    <tr>\n",
       "      <td>57</td>\n",
       "      <td>2</td>\n",
       "      <td>0</td>\n",
       "      <td>1</td>\n",
       "      <td>2</td>\n",
       "      <td>1</td>\n",
       "    </tr>\n",
       "    <tr>\n",
       "      <td>2</td>\n",
       "      <td>1</td>\n",
       "      <td>1</td>\n",
       "      <td>2</td>\n",
       "      <td>1</td>\n",
       "      <td>0</td>\n",
       "    </tr>\n",
       "    <tr>\n",
       "      <td>39</td>\n",
       "      <td>0</td>\n",
       "      <td>2</td>\n",
       "      <td>2</td>\n",
       "      <td>2</td>\n",
       "      <td>0</td>\n",
       "    </tr>\n",
       "  </tbody>\n",
       "</table>\n",
       "</div>"
      ],
      "text/plain": [
       "    Suhu  Waktu  Kondisi Langit  Kelembapan  Terbang/Tidak\n",
       "72     2      3               2           1              0\n",
       "15     1      1               3           1              0\n",
       "57     2      0               1           2              1\n",
       "2      1      1               2           1              0\n",
       "39     0      2               2           2              0"
      ]
     },
     "execution_count": 118,
     "metadata": {},
     "output_type": "execute_result"
    }
   ],
   "source": [
    "train = pd.read_csv('data_latih_opsi_2.csv', names = ['Suhu', 'Waktu', 'Kondisi Langit', 'Kelembapan', 'Terbang/Tidak'])\n",
    "train.sample(5)"
   ]
  },
  {
   "cell_type": "markdown",
   "metadata": {},
   "source": [
    "## Initialization"
   ]
  },
  {
   "cell_type": "code",
   "execution_count": 124,
   "metadata": {},
   "outputs": [],
   "source": [
    "population = []\n",
    "rule = np.random.randint(2,5) #2 atau 3 atau 4 aturan\n",
    "generate_pop = np.random.randint(2,size=(rule,14))\n",
    "for gen in generate_pop:\n",
    "    indv = {\n",
    "        'gen' : gen,\n",
    "        'size' : len(gen),\n",
    "        'fit' : 0,\n",
    "    }\n",
    "    population.append(indv)"
   ]
  },
  {
   "cell_type": "code",
   "execution_count": 125,
   "metadata": {},
   "outputs": [],
   "source": [
    "# suhu:3, waktu:4, kondisi langit:4, kelembapan:3 total: 14"
   ]
  },
  {
   "cell_type": "markdown",
   "metadata": {},
   "source": [
    "## Fitness Evaluation"
   ]
  },
  {
   "cell_type": "code",
   "execution_count": 126,
   "metadata": {},
   "outputs": [],
   "source": [
    "def fitnessEval(population):\n",
    "    i=0\n",
    "    while i < len(population):\n",
    "        Suhu = np.array(population[i]['gen'][:3])\n",
    "        broad_Suhu = Suhu[train['Suhu']]\n",
    "        Waktu = np.array(population[i]['gen'][3:7])\n",
    "        broad_Waktu = Waktu[train['Waktu']]\n",
    "        Langit = np.array(population[i]['gen'][7:11])\n",
    "        broad_Langit = Langit[train['Kondisi Langit']]\n",
    "        Lembap = np.array(population[i]['gen'][11:14])\n",
    "        broad_Lembap = Lembap[train['Kelembapan']]\n",
    "        list_broad = [broad_Suhu,broad_Waktu,broad_Langit,broad_Lembap]\n",
    "        terbang = np.logical_and.reduce(list_broad)\n",
    "        fit = np.sum(terbang)/80\n",
    "        population[i]['fit'] = fit\n",
    "        i = i + 1"
   ]
  },
  {
   "cell_type": "code",
   "execution_count": 127,
   "metadata": {},
   "outputs": [],
   "source": [
    "fitnessEval(population)"
   ]
  },
  {
   "cell_type": "code",
   "execution_count": 128,
   "metadata": {},
   "outputs": [
    {
     "data": {
      "text/plain": [
       "[{'gen': array([1, 0, 0, 1, 1, 1, 1, 1, 1, 1, 0, 0, 0, 0]),\n",
       "  'size': 14,\n",
       "  'fit': 0.0},\n",
       " {'gen': array([0, 0, 1, 1, 0, 1, 1, 0, 0, 1, 1, 1, 0, 1]),\n",
       "  'size': 14,\n",
       "  'fit': 0.075},\n",
       " {'gen': array([1, 0, 0, 0, 1, 0, 1, 1, 1, 1, 1, 0, 0, 1]),\n",
       "  'size': 14,\n",
       "  'fit': 0.075},\n",
       " {'gen': array([1, 0, 1, 0, 1, 1, 1, 1, 0, 1, 1, 1, 1, 0]),\n",
       "  'size': 14,\n",
       "  'fit': 0.3}]"
      ]
     },
     "execution_count": 128,
     "metadata": {},
     "output_type": "execute_result"
    }
   ],
   "source": [
    "population"
   ]
  },
  {
   "cell_type": "markdown",
   "metadata": {},
   "source": [
    "## Parent Selection"
   ]
  },
  {
   "cell_type": "code",
   "execution_count": 95,
   "metadata": {},
   "outputs": [],
   "source": [
    "def parent_selection(population):\n",
    "    battle_royale = np.random.choice(population,size=10,replace=False)\n",
    "    chicken_dinner = sorted(battle_royale, key= lambda x: x['fit'], reverse = True)\n",
    "    return chicken_dinner[:4]"
   ]
  },
  {
   "cell_type": "markdown",
   "metadata": {},
   "source": [
    "## Crossover"
   ]
  },
  {
   "cell_type": "code",
   "execution_count": null,
   "metadata": {},
   "outputs": [],
   "source": []
  },
  {
   "cell_type": "markdown",
   "metadata": {},
   "source": [
    "## Mutation"
   ]
  },
  {
   "cell_type": "code",
   "execution_count": 109,
   "metadata": {},
   "outputs": [],
   "source": [
    "def mutation(list_of_child):\n",
    "    for child in list_of_child:\n",
    "        fengshui = np.random.randint(0,100)\n",
    "        if fengshui == 88:\n",
    "            idx = np.random.randint(0,11)\n",
    "            child['genotype'][idx] = int(not child['genotype'][idx])\n",
    "    \n",
    "    return list_of_child"
   ]
  },
  {
   "cell_type": "markdown",
   "metadata": {},
   "source": [
    "## Survivor Selection"
   ]
  },
  {
   "cell_type": "code",
   "execution_count": null,
   "metadata": {},
   "outputs": [],
   "source": []
  }
 ],
 "metadata": {
  "kernelspec": {
   "display_name": "Python 3",
   "language": "python",
   "name": "python3"
  },
  "language_info": {
   "codemirror_mode": {
    "name": "ipython",
    "version": 3
   },
   "file_extension": ".py",
   "mimetype": "text/x-python",
   "name": "python",
   "nbconvert_exporter": "python",
   "pygments_lexer": "ipython3",
   "version": "3.7.4"
  }
 },
 "nbformat": 4,
 "nbformat_minor": 2
}

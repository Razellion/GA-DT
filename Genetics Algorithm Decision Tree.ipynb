{
 "cells": [
  {
   "cell_type": "markdown",
   "metadata": {},
   "source": [
    "## Import"
   ]
  },
  {
   "cell_type": "code",
   "execution_count": 1,
   "metadata": {},
   "outputs": [],
   "source": [
    "import numpy as np\n",
    "import pandas as pd"
   ]
  },
  {
   "cell_type": "markdown",
   "metadata": {},
   "source": [
    "## CSV Read"
   ]
  },
  {
   "cell_type": "code",
   "execution_count": 2,
   "metadata": {
    "scrolled": true
   },
   "outputs": [],
   "source": [
    "data = pd.read_csv('data_latih_opsi_2.csv', names = ['Suhu', 'Waktu', 'Kondisi Langit', 'Kelembapan', 'Terbang/Tidak'])"
   ]
  },
  {
   "cell_type": "code",
   "execution_count": 3,
   "metadata": {},
   "outputs": [],
   "source": [
    "uji = pd.read_csv('data_uji_opsi_2.csv', names = ['Suhu', 'Waktu', 'Kondisi Langit', 'Kelembapan'])"
   ]
  },
  {
   "cell_type": "markdown",
   "metadata": {},
   "source": [
    "## Initialization"
   ]
  },
  {
   "cell_type": "code",
   "execution_count": 4,
   "metadata": {},
   "outputs": [],
   "source": [
    "def Init(population):\n",
    "    rule_size = np.random.randint(2,5)\n",
    "    generate_pop = np.random.randint(2,size=(20,14*rule_size))\n",
    "    for gen in generate_pop:\n",
    "        indv = {\n",
    "            'gen' : gen,\n",
    "            'size' : len(gen),\n",
    "            'fit' : 0,\n",
    "        }\n",
    "        population.append(indv)"
   ]
  },
  {
   "cell_type": "code",
   "execution_count": 5,
   "metadata": {},
   "outputs": [],
   "source": [
    "# suhu:3, waktu:4, kondisi langit:4, kelembapan:3 total: 14"
   ]
  },
  {
   "cell_type": "markdown",
   "metadata": {},
   "source": [
    "## Fitness Evaluation"
   ]
  },
  {
   "cell_type": "code",
   "execution_count": 6,
   "metadata": {},
   "outputs": [],
   "source": [
    "def fitnessEval(population):\n",
    "    i=0\n",
    "    while i < len(population):\n",
    "        #broadcast\n",
    "        pop = np.reshape(population[i]['gen'],(int((len(population[i]['gen']))/14),14))\n",
    "        res = 0\n",
    "        terbang=[]\n",
    "        list_terbang=[]\n",
    "        while res < len(pop):\n",
    "            Suhu = np.array(pop[res][:3])\n",
    "            broad_Suhu = Suhu[data['Suhu']]\n",
    "            Waktu = np.array(pop[res][3:7])\n",
    "            broad_Waktu = Waktu[data['Waktu']]\n",
    "            Langit = np.array(pop[res])\n",
    "            broad_Langit = Langit[data['Kondisi Langit']]\n",
    "            Lembap = np.array(pop[res][11:14])\n",
    "            broad_Lembap = Lembap[data['Kelembapan']]\n",
    "            list_broad = [broad_Suhu,broad_Waktu,broad_Langit,broad_Lembap]\n",
    "            terbang = np.logical_and.reduce(list_broad)\n",
    "            list_terbang.append(terbang)\n",
    "            res = res + 1\n",
    "        fly = np.logical_or.reduce(list_terbang)\n",
    "        fit = np.sum(fly)/80\n",
    "        population[i]['fit'] = fit\n",
    "        i = i + 1"
   ]
  },
  {
   "cell_type": "markdown",
   "metadata": {},
   "source": [
    "## Parent Selection"
   ]
  },
  {
   "cell_type": "code",
   "execution_count": 7,
   "metadata": {},
   "outputs": [],
   "source": [
    "def parent_selection(population):\n",
    "    battle_royale = np.random.choice(population,size=len(population),replace=False)\n",
    "    chicken_dinner = sorted(battle_royale, key= lambda x: x['fit'], reverse = True)\n",
    "    return chicken_dinner[:2]"
   ]
  },
  {
   "cell_type": "markdown",
   "metadata": {},
   "source": [
    "## Crossover"
   ]
  },
  {
   "cell_type": "code",
   "execution_count": 8,
   "metadata": {},
   "outputs": [],
   "source": [
    "def crossover(selected):\n",
    "    p1 = np.random.randint(len(selected[0]['gen']))\n",
    "    p2 = np.random.randint(len(selected[0]['gen']))\n",
    "    if p1> p2:\n",
    "        p1,p2 = p2,p1\n",
    "    length = p2-p1\n",
    "    gap = length%14\n",
    "    size = np.random.randint(2)\n",
    "    gap = gap + 14*size\n",
    "    while gap > len(selected[1]['gen']):\n",
    "        gap = gap - 14\n",
    "    p3 = len(selected[1]['gen'])-gap\n",
    "    child=[]\n",
    "    generate_child = np.random.randint(2,size=(1,len(selected[0]['gen'])-length+gap))\n",
    "    for gen in generate_child:\n",
    "        indv = {\n",
    "            'gen' : gen,\n",
    "            'size' : len(gen),\n",
    "            'fit' : 0,\n",
    "        }\n",
    "        child.append(indv)\n",
    "    generate_child = np.random.randint(2,size=(1,len(selected[1]['gen'])-length+gap))\n",
    "    for gen in generate_child:\n",
    "        indv = {\n",
    "            'gen' : gen,\n",
    "            'size' : len(gen),\n",
    "            'fit' : 0,\n",
    "        }\n",
    "        child.append(indv)\n",
    "    n = 0\n",
    "    s1 = 0\n",
    "    s2 = 0\n",
    "    while n < child[0]['size']:\n",
    "        if(n<p1):\n",
    "            child[0]['gen'][n] = selected[0]['gen'][n]\n",
    "        elif (n<p1+gap):\n",
    "            child[0]['gen'][n] = selected[1]['gen'][p3+s1]\n",
    "            s1 = s1 + 1\n",
    "        else:\n",
    "            child[0]['gen'][n]  = selected[0]['gen'][p2+s2]\n",
    "            s2 = s2 + 1\n",
    "        n = n + 1\n",
    "    n = 0\n",
    "    s = 0\n",
    "    while n < child[1]['size']:\n",
    "        if(n<p3):\n",
    "            child[1]['gen'][n] = selected[1]['gen'][n]\n",
    "        else:\n",
    "            if p1+s == len(selected[0]['gen']):\n",
    "                s=0\n",
    "            child[1]['gen'][n] = selected[0]['gen'][p1+s]\n",
    "            s = s + 1\n",
    "        n = n + 1\n",
    "    fitnessEval(child)\n",
    "    if ((child[0]['fit']+child[1]['fit'])>(selected[0]['fit']+selected[1]['fit'])):\n",
    "        return child\n",
    "    else:\n",
    "        return selected"
   ]
  },
  {
   "cell_type": "markdown",
   "metadata": {},
   "source": [
    "## Mutation"
   ]
  },
  {
   "cell_type": "code",
   "execution_count": 9,
   "metadata": {},
   "outputs": [],
   "source": [
    "def mutation(list_of_child):\n",
    "    for child in list_of_child:\n",
    "        fengshui = np.random.randint(0,100)\n",
    "        if fengshui == 88:\n",
    "            idx = np.random.randint(0,len(child['gen']))\n",
    "            child['gen'][idx] = int(not child['gen'][idx])\n",
    "    \n",
    "    fitnessEval(list_of_child)\n",
    "    return list_of_child"
   ]
  },
  {
   "cell_type": "markdown",
   "metadata": {},
   "source": [
    "## Survivor Selection"
   ]
  },
  {
   "cell_type": "code",
   "execution_count": 10,
   "metadata": {},
   "outputs": [],
   "source": [
    "def survivor_selection(population, child):\n",
    "    population = sorted(population, key = lambda x: x['fit'])\n",
    "    child = sorted(child, key = lambda x: x['fit'], reverse = True)\n",
    "    i=0\n",
    "    while i<len(child):\n",
    "        population[i] = child[i]\n",
    "        i+=1"
   ]
  },
  {
   "cell_type": "markdown",
   "metadata": {},
   "source": [
    "## Generating Model"
   ]
  },
  {
   "cell_type": "code",
   "execution_count": 156,
   "metadata": {},
   "outputs": [],
   "source": [
    "population = []\n",
    "Init(population)\n",
    "fitnessEval(population)\n",
    "parent = parent_selection(population)\n",
    "model = crossover(parent)\n",
    "mutation(model)\n",
    "survivor_selection(population,model)\n",
    "while model[0]['fit'] < 0.7 or model[1]['fit'] < 0.7:\n",
    "    fitnessEval(population)\n",
    "    parent = parent_selection(population)\n",
    "    model = crossover(parent)\n",
    "    mutation(model)\n",
    "    survivor_selection(population,model)"
   ]
  },
  {
   "cell_type": "code",
   "execution_count": 157,
   "metadata": {},
   "outputs": [],
   "source": [
    "model = sorted(model, key = lambda x: x['fit'],reverse = True)[0]"
   ]
  },
  {
   "cell_type": "code",
   "execution_count": 158,
   "metadata": {
    "scrolled": true
   },
   "outputs": [
    {
     "name": "stdout",
     "output_type": "stream",
     "text": [
      "Best Model {'gen': array([1, 1, 0, 0, 0, 1, 0, 1, 0, 0, 1, 1, 1, 0, 1, 0, 1, 0, 1, 1, 1, 0,\n",
      "       1, 1, 1, 1, 0, 1, 1, 1, 0, 0, 0, 1, 1, 0, 1, 0, 0, 1, 1, 0, 1, 1,\n",
      "       1, 1, 1, 1, 0, 0, 1, 1, 0, 1, 1, 1, 0, 0, 0, 0, 0, 0, 1, 1, 1, 0,\n",
      "       0, 1, 1, 1]), 'size': 70, 'fit': 0.8875}\n"
     ]
    }
   ],
   "source": [
    "print(\"Best Model\", model)"
   ]
  },
  {
   "cell_type": "markdown",
   "metadata": {},
   "source": [
    "## Fitness Check Uji"
   ]
  },
  {
   "cell_type": "code",
   "execution_count": 159,
   "metadata": {},
   "outputs": [],
   "source": [
    "def fitnessUji(model):\n",
    "    i=0\n",
    "    while i < len(model):\n",
    "        #broadcast\n",
    "        pop = np.reshape(model['gen'],(int((len(model['gen']))/14),14))\n",
    "        res = 0\n",
    "        terbang=[]\n",
    "        list_terbang=[]\n",
    "        while res < len(pop):\n",
    "            Suhu = np.array(pop[res][:3])\n",
    "            broad_Suhu = Suhu[uji['Suhu']]\n",
    "            Waktu = np.array(pop[res][3:7])\n",
    "            broad_Waktu = Waktu[uji['Waktu']]\n",
    "            Langit = np.array(pop[res])\n",
    "            broad_Langit = Langit[uji['Kondisi Langit']]\n",
    "            Lembap = np.array(pop[res][11:14])\n",
    "            broad_Lembap = Lembap[uji['Kelembapan']]\n",
    "            list_broad = [broad_Suhu,broad_Waktu,broad_Langit,broad_Lembap]\n",
    "            terbang = np.logical_and.reduce(list_broad)\n",
    "            list_terbang.append(terbang)\n",
    "            res = res + 1\n",
    "        fly = np.logical_or.reduce(list_terbang)\n",
    "        csv = pd.DataFrame(fly)\n",
    "        csv.columns = ['Terbang/Tidak']\n",
    "        csv.to_csv('prediksi.csv',index=False) ## EXPORT TO CSV\n",
    "        fit = np.sum(fly)/20\n",
    "        model['fit'] = fit\n",
    "        i = i + 1"
   ]
  },
  {
   "cell_type": "code",
   "execution_count": 160,
   "metadata": {
    "scrolled": false
   },
   "outputs": [],
   "source": [
    "fitnessUji(model)"
   ]
  },
  {
   "cell_type": "code",
   "execution_count": 161,
   "metadata": {
    "scrolled": false
   },
   "outputs": [
    {
     "data": {
      "text/plain": [
       "{'gen': array([1, 1, 0, 0, 0, 1, 0, 1, 0, 0, 1, 1, 1, 0, 1, 0, 1, 0, 1, 1, 1, 0,\n",
       "        1, 1, 1, 1, 0, 1, 1, 1, 0, 0, 0, 1, 1, 0, 1, 0, 0, 1, 1, 0, 1, 1,\n",
       "        1, 1, 1, 1, 0, 0, 1, 1, 0, 1, 1, 1, 0, 0, 0, 0, 0, 0, 1, 1, 1, 0,\n",
       "        0, 1, 1, 1]), 'size': 70, 'fit': 0.85}"
      ]
     },
     "execution_count": 161,
     "metadata": {},
     "output_type": "execute_result"
    }
   ],
   "source": [
    "model"
   ]
  }
 ],
 "metadata": {
  "kernelspec": {
   "display_name": "Python 3",
   "language": "python",
   "name": "python3"
  },
  "language_info": {
   "codemirror_mode": {
    "name": "ipython",
    "version": 3
   },
   "file_extension": ".py",
   "mimetype": "text/x-python",
   "name": "python",
   "nbconvert_exporter": "python",
   "pygments_lexer": "ipython3",
   "version": "3.7.4"
  }
 },
 "nbformat": 4,
 "nbformat_minor": 2
}
